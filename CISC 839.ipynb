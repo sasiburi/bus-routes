{
 "cells": [
  {
   "cell_type": "raw",
   "id": "e7a9f682",
   "metadata": {},
   "source": [
    "# Each data point includes date/time, the type of boarding, bus and route number, and latitude/longitude where the boarding was recorded (note that around 8% of these were on buses with malfunctioning GPS antennae, and have the boarding coordinates recorded as 0,0). One note – you will see references to Routes 8 and 13 in the data. These routes do not have public timetables; these are extra buses to help service peak demand in certain areas of the City (primarily, the Union Street corridor between St. Lawrence College and Downtown)."
   ]
  },
  {
   "cell_type": "code",
   "execution_count": 1,
   "id": "65b16968",
   "metadata": {},
   "outputs": [],
   "source": [
    "import pandas as pd\n",
    "from matplotlib import pyplot as plt\n",
    "from mpl_toolkits.mplot3d import Axes3D\n",
    "import osmnx as ox\n",
    "import networkx as nx"
   ]
  },
  {
   "cell_type": "code",
   "execution_count": 2,
   "id": "6ed092af",
   "metadata": {},
   "outputs": [],
   "source": [
    "data=pd.read_excel(\"Data/Transit Data - October.xlsx\")"
   ]
  },
  {
   "cell_type": "code",
   "execution_count": 3,
   "id": "001c412a",
   "metadata": {},
   "outputs": [
    {
     "name": "stdout",
     "output_type": "stream",
     "text": [
      "<class 'pandas.core.frame.DataFrame'>\n",
      "RangeIndex: 704539 entries, 0 to 704538\n",
      "Data columns (total 8 columns):\n",
      " #   Column     Non-Null Count   Dtype         \n",
      "---  ------     --------------   -----         \n",
      " 0   Date       704539 non-null  datetime64[ns]\n",
      " 1   Time       704539 non-null  datetime64[ns]\n",
      " 2   Class      704539 non-null  object        \n",
      " 3   Operation  704539 non-null  object        \n",
      " 4   Bus        704539 non-null  int64         \n",
      " 5   Route      704539 non-null  int64         \n",
      " 6   Latitude   704539 non-null  float64       \n",
      " 7   Longitude  704539 non-null  float64       \n",
      "dtypes: datetime64[ns](2), float64(2), int64(2), object(2)\n",
      "memory usage: 43.0+ MB\n"
     ]
    }
   ],
   "source": [
    "data.info()"
   ]
  },
  {
   "cell_type": "code",
   "execution_count": 4,
   "id": "037e813e",
   "metadata": {},
   "outputs": [
    {
     "name": "stdout",
     "output_type": "stream",
     "text": [
      "                 Bus          Route       Latitude      Longitude\n",
      "count  704539.000000  704539.000000  704539.000000  704539.000000\n",
      "mean     1241.137280     239.365809      40.941516     -70.604451\n",
      "std       317.249714     288.489481      13.694826      21.473093\n",
      "min       315.000000       1.000000       0.000000    -255.426092\n",
      "25%      1047.000000       3.000000      44.224635     -76.526580\n",
      "50%      1361.000000      15.000000      44.232833     -76.502100\n",
      "75%      1480.000000     502.000000      44.248020     -76.486999\n",
      "max      1689.000000     701.000000     255.426092       0.000000\n"
     ]
    }
   ],
   "source": [
    "print(data.describe())"
   ]
  },
  {
   "cell_type": "code",
   "execution_count": 5,
   "id": "1ba305e5",
   "metadata": {},
   "outputs": [
    {
     "data": {
      "text/plain": [
       "Date         False\n",
       "Time         False\n",
       "Class        False\n",
       "Operation    False\n",
       "Bus          False\n",
       "Route        False\n",
       "Latitude     False\n",
       "Longitude    False\n",
       "dtype: bool"
      ]
     },
     "execution_count": 5,
     "metadata": {},
     "output_type": "execute_result"
    }
   ],
   "source": [
    "data.isnull().any()"
   ]
  },
  {
   "cell_type": "code",
   "execution_count": 6,
   "id": "3458ff4b",
   "metadata": {},
   "outputs": [
    {
     "data": {
      "text/html": [
       "<div>\n",
       "<style scoped>\n",
       "    .dataframe tbody tr th:only-of-type {\n",
       "        vertical-align: middle;\n",
       "    }\n",
       "\n",
       "    .dataframe tbody tr th {\n",
       "        vertical-align: top;\n",
       "    }\n",
       "\n",
       "    .dataframe thead th {\n",
       "        text-align: right;\n",
       "    }\n",
       "</style>\n",
       "<table border=\"1\" class=\"dataframe\">\n",
       "  <thead>\n",
       "    <tr style=\"text-align: right;\">\n",
       "      <th></th>\n",
       "      <th>Date</th>\n",
       "      <th>Time</th>\n",
       "      <th>Class</th>\n",
       "      <th>Operation</th>\n",
       "      <th>Bus</th>\n",
       "      <th>Route</th>\n",
       "      <th>Latitude</th>\n",
       "      <th>Longitude</th>\n",
       "    </tr>\n",
       "  </thead>\n",
       "  <tbody>\n",
       "    <tr>\n",
       "      <th>49</th>\n",
       "      <td>2017-10-01</td>\n",
       "      <td>1900-01-01 08:10:05</td>\n",
       "      <td>Youth</td>\n",
       "      <td>Pass (Multi-ride card)</td>\n",
       "      <td>623</td>\n",
       "      <td>7</td>\n",
       "      <td>0.0</td>\n",
       "      <td>0.0</td>\n",
       "    </tr>\n",
       "    <tr>\n",
       "      <th>51</th>\n",
       "      <td>2017-10-01</td>\n",
       "      <td>1900-01-01 08:12:24</td>\n",
       "      <td>Child</td>\n",
       "      <td>Exact Fare</td>\n",
       "      <td>1367</td>\n",
       "      <td>601</td>\n",
       "      <td>0.0</td>\n",
       "      <td>0.0</td>\n",
       "    </tr>\n",
       "    <tr>\n",
       "      <th>52</th>\n",
       "      <td>2017-10-01</td>\n",
       "      <td>1900-01-01 08:12:25</td>\n",
       "      <td>ADULT</td>\n",
       "      <td>Pass (Multi-ride card)</td>\n",
       "      <td>1367</td>\n",
       "      <td>601</td>\n",
       "      <td>0.0</td>\n",
       "      <td>0.0</td>\n",
       "    </tr>\n",
       "    <tr>\n",
       "      <th>54</th>\n",
       "      <td>2017-10-01</td>\n",
       "      <td>1900-01-01 08:26:01</td>\n",
       "      <td>ADULT</td>\n",
       "      <td>Pass (Multi-ride card)</td>\n",
       "      <td>729</td>\n",
       "      <td>4</td>\n",
       "      <td>0.0</td>\n",
       "      <td>0.0</td>\n",
       "    </tr>\n",
       "    <tr>\n",
       "      <th>55</th>\n",
       "      <td>2017-10-01</td>\n",
       "      <td>1900-01-01 08:26:21</td>\n",
       "      <td>SENIOR</td>\n",
       "      <td>Pass (Multi-ride card)</td>\n",
       "      <td>729</td>\n",
       "      <td>4</td>\n",
       "      <td>0.0</td>\n",
       "      <td>0.0</td>\n",
       "    </tr>\n",
       "    <tr>\n",
       "      <th>...</th>\n",
       "      <td>...</td>\n",
       "      <td>...</td>\n",
       "      <td>...</td>\n",
       "      <td>...</td>\n",
       "      <td>...</td>\n",
       "      <td>...</td>\n",
       "      <td>...</td>\n",
       "      <td>...</td>\n",
       "    </tr>\n",
       "    <tr>\n",
       "      <th>704468</th>\n",
       "      <td>2017-10-01</td>\n",
       "      <td>1900-01-01 16:54:22</td>\n",
       "      <td>ADULT</td>\n",
       "      <td>Pass (Multi-ride card)</td>\n",
       "      <td>729</td>\n",
       "      <td>4</td>\n",
       "      <td>0.0</td>\n",
       "      <td>0.0</td>\n",
       "    </tr>\n",
       "    <tr>\n",
       "      <th>704470</th>\n",
       "      <td>2017-10-01</td>\n",
       "      <td>1900-01-01 16:54:43</td>\n",
       "      <td>Child</td>\n",
       "      <td>Exact Fare</td>\n",
       "      <td>624</td>\n",
       "      <td>10</td>\n",
       "      <td>0.0</td>\n",
       "      <td>0.0</td>\n",
       "    </tr>\n",
       "    <tr>\n",
       "      <th>704476</th>\n",
       "      <td>2017-10-01</td>\n",
       "      <td>1900-01-01 16:56:19</td>\n",
       "      <td>QUEENS</td>\n",
       "      <td>Exact Fare</td>\n",
       "      <td>729</td>\n",
       "      <td>4</td>\n",
       "      <td>0.0</td>\n",
       "      <td>0.0</td>\n",
       "    </tr>\n",
       "    <tr>\n",
       "      <th>704477</th>\n",
       "      <td>2017-10-01</td>\n",
       "      <td>1900-01-01 16:56:21</td>\n",
       "      <td>QUEENS</td>\n",
       "      <td>Exact Fare</td>\n",
       "      <td>729</td>\n",
       "      <td>4</td>\n",
       "      <td>0.0</td>\n",
       "      <td>0.0</td>\n",
       "    </tr>\n",
       "    <tr>\n",
       "      <th>704488</th>\n",
       "      <td>2017-10-01</td>\n",
       "      <td>1900-01-01 16:46:01</td>\n",
       "      <td>ADULT</td>\n",
       "      <td>Rides (Multi-ride card)</td>\n",
       "      <td>1367</td>\n",
       "      <td>601</td>\n",
       "      <td>0.0</td>\n",
       "      <td>0.0</td>\n",
       "    </tr>\n",
       "  </tbody>\n",
       "</table>\n",
       "<p>55753 rows × 8 columns</p>\n",
       "</div>"
      ],
      "text/plain": [
       "             Date                Time   Class                Operation   Bus  \\\n",
       "49     2017-10-01 1900-01-01 08:10:05   Youth   Pass (Multi-ride card)   623   \n",
       "51     2017-10-01 1900-01-01 08:12:24   Child               Exact Fare  1367   \n",
       "52     2017-10-01 1900-01-01 08:12:25   ADULT   Pass (Multi-ride card)  1367   \n",
       "54     2017-10-01 1900-01-01 08:26:01   ADULT   Pass (Multi-ride card)   729   \n",
       "55     2017-10-01 1900-01-01 08:26:21  SENIOR   Pass (Multi-ride card)   729   \n",
       "...           ...                 ...     ...                      ...   ...   \n",
       "704468 2017-10-01 1900-01-01 16:54:22   ADULT   Pass (Multi-ride card)   729   \n",
       "704470 2017-10-01 1900-01-01 16:54:43   Child               Exact Fare   624   \n",
       "704476 2017-10-01 1900-01-01 16:56:19  QUEENS               Exact Fare   729   \n",
       "704477 2017-10-01 1900-01-01 16:56:21  QUEENS               Exact Fare   729   \n",
       "704488 2017-10-01 1900-01-01 16:46:01   ADULT  Rides (Multi-ride card)  1367   \n",
       "\n",
       "        Route  Latitude  Longitude  \n",
       "49          7       0.0        0.0  \n",
       "51        601       0.0        0.0  \n",
       "52        601       0.0        0.0  \n",
       "54          4       0.0        0.0  \n",
       "55          4       0.0        0.0  \n",
       "...       ...       ...        ...  \n",
       "704468      4       0.0        0.0  \n",
       "704470     10       0.0        0.0  \n",
       "704476      4       0.0        0.0  \n",
       "704477      4       0.0        0.0  \n",
       "704488    601       0.0        0.0  \n",
       "\n",
       "[55753 rows x 8 columns]"
      ]
     },
     "execution_count": 6,
     "metadata": {},
     "output_type": "execute_result"
    }
   ],
   "source": [
    "miss_data_latitude=data[data['Latitude']==0]\n",
    "miss_data_latitude"
   ]
  },
  {
   "cell_type": "code",
   "execution_count": 7,
   "id": "0a84e4ba",
   "metadata": {},
   "outputs": [
    {
     "name": "stdout",
     "output_type": "stream",
     "text": [
      "        Date  Time  Class  Operation   Bus  Route  Latitude  Longitude\n",
      "49      True  True   True       True  True   True      True       True\n",
      "51      True  True   True       True  True   True      True       True\n",
      "52      True  True   True       True  True   True      True       True\n",
      "54      True  True   True       True  True   True      True       True\n",
      "55      True  True   True       True  True   True      True       True\n",
      "...      ...   ...    ...        ...   ...    ...       ...        ...\n",
      "704468  True  True   True       True  True   True      True       True\n",
      "704470  True  True   True       True  True   True      True       True\n",
      "704476  True  True   True       True  True   True      True       True\n",
      "704477  True  True   True       True  True   True      True       True\n",
      "704488  True  True   True       True  True   True      True       True\n",
      "\n",
      "[55753 rows x 8 columns]\n"
     ]
    }
   ],
   "source": [
    "miss_data_Longitude=data[data['Longitude']==0]\n",
    "print(miss_data_Longitude == miss_data_latitude)"
   ]
  },
  {
   "cell_type": "code",
   "execution_count": 8,
   "id": "5a550a66",
   "metadata": {},
   "outputs": [
    {
     "name": "stderr",
     "output_type": "stream",
     "text": [
      "/var/folders/k3/dm3pbfdd7ysgk9czg_x952pc0000gn/T/ipykernel_25487/192970983.py:2: MatplotlibDeprecationWarning: Axes3D(fig) adding itself to the figure is deprecated since 3.4. Pass the keyword argument auto_add_to_figure=False and use fig.add_axes(ax) to suppress this warning. The default value of auto_add_to_figure will change to False in mpl3.5 and True values will no longer work in 3.6.  This is consistent with other Axes classes.\n",
      "  ax2 = Axes3D(fig)\n"
     ]
    },
    {
     "data": {
      "image/png": "[encoded data removed]",
      "text/plain": [
       "<Figure size 432x288 with 1 Axes>"
      ]
     },
     "metadata": {
      "needs_background": "light"
     },
     "output_type": "display_data"
    }
   ],
   "source": [
    "fig=plt.figure()\n",
    "ax2 = Axes3D(fig)"
   ]
  },
  {
   "cell_type": "code",
   "execution_count": 9,
   "id": "6364e0ca",
   "metadata": {},
   "outputs": [
    {
     "data": {
      "image/png": "[encoded data removed]",
      "text/plain": [
       "<Figure size 432x288 with 1 Axes>"
      ]
     },
     "metadata": {
      "needs_background": "light"
     },
     "output_type": "display_data"
    }
   ],
   "source": [
    "plt.title(\"Matplotlib demo\") \n",
    "plt.xlabel(\"Bus Route\") \n",
    "plt.ylabel(\"malfunctioning GPS antennae\") \n",
    "plt.plot(miss_data_Longitude['Route'],miss_data_Longitude['Longitude'],'.') \n",
    "plt.show()"
   ]
  },
  {
   "cell_type": "code",
   "execution_count": 10,
   "id": "f42eb123",
   "metadata": {},
   "outputs": [
    {
     "data": {
      "text/plain": [
       "array([  7, 601,   4,  10,  18, 701,  12,   3,  20,  15,  14,   2,  11,\n",
       "         1, 502,  16, 501,   6,   8,  13])"
      ]
     },
     "execution_count": 10,
     "metadata": {},
     "output_type": "execute_result"
    }
   ],
   "source": [
    "miss_data_Longitude['Route'].unique()"
   ]
  },
  {
   "cell_type": "code",
   "execution_count": 11,
   "id": "98a1d5be",
   "metadata": {},
   "outputs": [
    {
     "data": {
      "text/plain": [
       "array([ 17,   7, 701,  15, 501, 502,   1, 601,   4,   3,  11,   2,  12,\n",
       "        16,  10,  18,  13,   6,  14,  20,   8])"
      ]
     },
     "execution_count": 11,
     "metadata": {},
     "output_type": "execute_result"
    }
   ],
   "source": [
    "data['Route'].unique()"
   ]
  },
  {
   "cell_type": "code",
   "execution_count": 12,
   "id": "78a05ed4",
   "metadata": {},
   "outputs": [
    {
     "name": "stdout",
     "output_type": "stream",
     "text": [
      "17\n"
     ]
    }
   ],
   "source": [
    "for i in data['Route'].unique():\n",
    "    if i not in miss_data_Longitude['Route'].unique():\n",
    "        print(i)"
   ]
  },
  {
   "cell_type": "code",
   "execution_count": 13,
   "id": "97934cce",
   "metadata": {},
   "outputs": [
    {
     "data": {
      "text/html": [
       "<div>\n",
       "<style scoped>\n",
       "    .dataframe tbody tr th:only-of-type {\n",
       "        vertical-align: middle;\n",
       "    }\n",
       "\n",
       "    .dataframe tbody tr th {\n",
       "        vertical-align: top;\n",
       "    }\n",
       "\n",
       "    .dataframe thead th {\n",
       "        text-align: right;\n",
       "    }\n",
       "</style>\n",
       "<table border=\"1\" class=\"dataframe\">\n",
       "  <thead>\n",
       "    <tr style=\"text-align: right;\">\n",
       "      <th></th>\n",
       "      <th>Date</th>\n",
       "      <th>Time</th>\n",
       "      <th>Class</th>\n",
       "      <th>Operation</th>\n",
       "      <th>Bus</th>\n",
       "      <th>Route</th>\n",
       "      <th>Latitude</th>\n",
       "      <th>Longitude</th>\n",
       "    </tr>\n",
       "  </thead>\n",
       "  <tbody>\n",
       "    <tr>\n",
       "      <th>0</th>\n",
       "      <td>2017-10-01</td>\n",
       "      <td>1900-01-01 01:43:03</td>\n",
       "      <td>QUEENS</td>\n",
       "      <td>Exact Fare</td>\n",
       "      <td>620</td>\n",
       "      <td>17</td>\n",
       "      <td>44.227860</td>\n",
       "      <td>-76.496938</td>\n",
       "    </tr>\n",
       "    <tr>\n",
       "      <th>1</th>\n",
       "      <td>2017-10-01</td>\n",
       "      <td>1900-01-01 01:43:08</td>\n",
       "      <td>QUEENS</td>\n",
       "      <td>Exact Fare</td>\n",
       "      <td>620</td>\n",
       "      <td>17</td>\n",
       "      <td>44.227860</td>\n",
       "      <td>-76.496938</td>\n",
       "    </tr>\n",
       "    <tr>\n",
       "      <th>2</th>\n",
       "      <td>2017-10-01</td>\n",
       "      <td>1900-01-01 01:58:13</td>\n",
       "      <td>ADULT</td>\n",
       "      <td>Pass (Multi-ride card)</td>\n",
       "      <td>620</td>\n",
       "      <td>17</td>\n",
       "      <td>44.232035</td>\n",
       "      <td>-76.491397</td>\n",
       "    </tr>\n",
       "    <tr>\n",
       "      <th>3</th>\n",
       "      <td>2017-10-01</td>\n",
       "      <td>1900-01-01 01:58:25</td>\n",
       "      <td>QUEENS</td>\n",
       "      <td>Exact Fare</td>\n",
       "      <td>620</td>\n",
       "      <td>17</td>\n",
       "      <td>44.232035</td>\n",
       "      <td>-76.491397</td>\n",
       "    </tr>\n",
       "    <tr>\n",
       "      <th>4</th>\n",
       "      <td>2017-10-01</td>\n",
       "      <td>1900-01-01 01:58:27</td>\n",
       "      <td>QUEENS</td>\n",
       "      <td>Exact Fare</td>\n",
       "      <td>620</td>\n",
       "      <td>17</td>\n",
       "      <td>44.232035</td>\n",
       "      <td>-76.491397</td>\n",
       "    </tr>\n",
       "    <tr>\n",
       "      <th>...</th>\n",
       "      <td>...</td>\n",
       "      <td>...</td>\n",
       "      <td>...</td>\n",
       "      <td>...</td>\n",
       "      <td>...</td>\n",
       "      <td>...</td>\n",
       "      <td>...</td>\n",
       "      <td>...</td>\n",
       "    </tr>\n",
       "    <tr>\n",
       "      <th>704534</th>\n",
       "      <td>2017-10-01</td>\n",
       "      <td>1900-01-01 17:07:13</td>\n",
       "      <td>QUEENS</td>\n",
       "      <td>Exact Fare</td>\n",
       "      <td>1362</td>\n",
       "      <td>701</td>\n",
       "      <td>44.255135</td>\n",
       "      <td>-76.572517</td>\n",
       "    </tr>\n",
       "    <tr>\n",
       "      <th>704535</th>\n",
       "      <td>2017-10-01</td>\n",
       "      <td>1900-01-01 17:07:22</td>\n",
       "      <td>QUEENS</td>\n",
       "      <td>Exact Fare</td>\n",
       "      <td>1362</td>\n",
       "      <td>701</td>\n",
       "      <td>44.255135</td>\n",
       "      <td>-76.572517</td>\n",
       "    </tr>\n",
       "    <tr>\n",
       "      <th>704536</th>\n",
       "      <td>2017-10-01</td>\n",
       "      <td>1900-01-01 17:07:31</td>\n",
       "      <td>ST LAWRENCE</td>\n",
       "      <td>Exact Fare</td>\n",
       "      <td>1362</td>\n",
       "      <td>701</td>\n",
       "      <td>44.255135</td>\n",
       "      <td>-76.572517</td>\n",
       "    </tr>\n",
       "    <tr>\n",
       "      <th>704537</th>\n",
       "      <td>2017-10-01</td>\n",
       "      <td>1900-01-01 17:08:47</td>\n",
       "      <td>QUEENS</td>\n",
       "      <td>Exact Fare</td>\n",
       "      <td>1257</td>\n",
       "      <td>18</td>\n",
       "      <td>44.231425</td>\n",
       "      <td>-76.484333</td>\n",
       "    </tr>\n",
       "    <tr>\n",
       "      <th>704538</th>\n",
       "      <td>2017-10-01</td>\n",
       "      <td>1900-01-01 17:09:41</td>\n",
       "      <td>ADULT</td>\n",
       "      <td>Rides (Multi-ride card)</td>\n",
       "      <td>1046</td>\n",
       "      <td>1</td>\n",
       "      <td>44.224327</td>\n",
       "      <td>-76.494960</td>\n",
       "    </tr>\n",
       "  </tbody>\n",
       "</table>\n",
       "<p>704539 rows × 8 columns</p>\n",
       "</div>"
      ],
      "text/plain": [
       "             Date                Time        Class                Operation  \\\n",
       "0      2017-10-01 1900-01-01 01:43:03       QUEENS               Exact Fare   \n",
       "1      2017-10-01 1900-01-01 01:43:08       QUEENS               Exact Fare   \n",
       "2      2017-10-01 1900-01-01 01:58:13        ADULT   Pass (Multi-ride card)   \n",
       "3      2017-10-01 1900-01-01 01:58:25       QUEENS               Exact Fare   \n",
       "4      2017-10-01 1900-01-01 01:58:27       QUEENS               Exact Fare   \n",
       "...           ...                 ...          ...                      ...   \n",
       "704534 2017-10-01 1900-01-01 17:07:13       QUEENS               Exact Fare   \n",
       "704535 2017-10-01 1900-01-01 17:07:22       QUEENS               Exact Fare   \n",
       "704536 2017-10-01 1900-01-01 17:07:31  ST LAWRENCE               Exact Fare   \n",
       "704537 2017-10-01 1900-01-01 17:08:47       QUEENS               Exact Fare   \n",
       "704538 2017-10-01 1900-01-01 17:09:41        ADULT  Rides (Multi-ride card)   \n",
       "\n",
       "         Bus  Route   Latitude  Longitude  \n",
       "0        620     17  44.227860 -76.496938  \n",
       "1        620     17  44.227860 -76.496938  \n",
       "2        620     17  44.232035 -76.491397  \n",
       "3        620     17  44.232035 -76.491397  \n",
       "4        620     17  44.232035 -76.491397  \n",
       "...      ...    ...        ...        ...  \n",
       "704534  1362    701  44.255135 -76.572517  \n",
       "704535  1362    701  44.255135 -76.572517  \n",
       "704536  1362    701  44.255135 -76.572517  \n",
       "704537  1257     18  44.231425 -76.484333  \n",
       "704538  1046      1  44.224327 -76.494960  \n",
       "\n",
       "[704539 rows x 8 columns]"
      ]
     },
     "execution_count": 13,
     "metadata": {},
     "output_type": "execute_result"
    }
   ],
   "source": [
    "data.dropna()\n",
    "# data['Longitude'].dropna()\n",
    "# data['Latitude'].dropna()"
   ]
  },
  {
   "cell_type": "code",
   "execution_count": 14,
   "id": "cb6d5a6c-c4c3-4529-8765-c9689cf5ac95",
   "metadata": {},
   "outputs": [
    {
     "data": {
      "image/png": "[encoded data removed]",
      "text/plain": [
       "<Figure size 432x288 with 1 Axes>"
      ]
     },
     "metadata": {
      "needs_background": "light"
     },
     "output_type": "display_data"
    }
   ],
   "source": [
    "bus_7 = data.loc[data['Route']==7]\n",
    "bus_7\n",
    "plt.plot(bus_7['Latitude'],bus_7['Longitude'],\".\")\n",
    "plt.show()"
   ]
  },
  {
   "cell_type": "code",
   "execution_count": 16,
   "id": "849db907-63bb-4099-8a60-7bf937a1a062",
   "metadata": {},
   "outputs": [
    {
     "name": "stderr",
     "output_type": "stream",
     "text": [
      "/Users/Elaine/miniforge3/lib/python3.9/site-packages/osmnx/utils.py:192: UserWarning: The `utils.config` function is deprecated and will be removed in a future release. Instead, use the `settings` module directly to configure a global setting's value. For example, `ox.settings.log_console=True`.\n",
      "  warnings.warn(\n"
     ]
    },
    {
     "data": {
      "text/plain": [
       "<networkx.classes.multidigraph.MultiDiGraph at 0x2888a19d0>"
      ]
     },
     "execution_count": 16,
     "metadata": {},
     "output_type": "execute_result"
    }
   ],
   "source": [
    "ox.config(log_console=True, use_cache=True)\n",
    "place = 'Kingston, Ontario, Canada'\n",
    "mode = 'drive'\n",
    "graph = ox.graph_from_place(place, network_type = mode)\n",
    "graph"
   ]
  },
  {
   "cell_type": "code",
   "execution_count": null,
   "id": "39553bc6-3ea8-43da-b98f-f9f75e345f4c",
   "metadata": {},
   "outputs": [],
   "source": []
  }
 ],
 "metadata": {
  "kernelspec": {
   "display_name": "Python 3 (ipykernel)",
   "language": "python",
   "name": "python3"
  },
  "language_info": {
   "codemirror_mode": {
    "name": "ipython",
    "version": 3
   },
   "file_extension": ".py",
   "mimetype": "text/x-python",
   "name": "python",
   "nbconvert_exporter": "python",
   "pygments_lexer": "ipython3",
   "version": "3.9.13"
  }
 },
 "nbformat": 4,
 "nbformat_minor": 5
}
